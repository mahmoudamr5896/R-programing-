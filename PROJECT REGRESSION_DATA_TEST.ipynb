{
 "cells": [
  {
   "cell_type": "code",
   "execution_count": 4,
   "outputs": [
    {
     "ename": "SyntaxError",
     "evalue": "invalid syntax (2344992959.py, line 1)",
     "output_type": "error",
     "traceback": [
      "\u001B[1;36m  File \u001B[1;32m\"C:\\Users\\fg\\AppData\\Local\\Temp\\ipykernel_6764\\2344992959.py\"\u001B[1;36m, line \u001B[1;32m1\u001B[0m\n\u001B[1;33m    pip install pandas\u001B[0m\n\u001B[1;37m        ^\u001B[0m\n\u001B[1;31mSyntaxError\u001B[0m\u001B[1;31m:\u001B[0m invalid syntax\n"
     ]
    }
   ],
   "source": [
    "pip install pandas\n"
   ],
   "metadata": {
    "collapsed": false
   }
  },
  {
   "cell_type": "code",
   "execution_count": 5,
   "outputs": [],
   "source": [
    "import pandas as pd"
   ],
   "metadata": {
    "collapsed": false
   }
  },
  {
   "cell_type": "code",
   "execution_count": 7,
   "outputs": [],
   "source": [
    "data = pd.read_csv('test.csv')"
   ],
   "metadata": {
    "collapsed": false
   }
  },
  {
   "cell_type": "code",
   "execution_count": 8,
   "id": "34d33bad",
   "metadata": {},
   "outputs": [
    {
     "data": {
      "text/plain": "      x          y\n0    77  79.775152\n1    21  23.177279\n2    22  25.609262\n3    20  17.857388\n4    36  41.849864\n..   ..        ...\n295  71  68.545888\n296  46  47.334876\n297  55  54.090637\n298  62  63.297171\n299  47  52.459467\n\n[300 rows x 2 columns]",
      "text/html": "<div>\n<style scoped>\n    .dataframe tbody tr th:only-of-type {\n        vertical-align: middle;\n    }\n\n    .dataframe tbody tr th {\n        vertical-align: top;\n    }\n\n    .dataframe thead th {\n        text-align: right;\n    }\n</style>\n<table border=\"1\" class=\"dataframe\">\n  <thead>\n    <tr style=\"text-align: right;\">\n      <th></th>\n      <th>x</th>\n      <th>y</th>\n    </tr>\n  </thead>\n  <tbody>\n    <tr>\n      <th>0</th>\n      <td>77</td>\n      <td>79.775152</td>\n    </tr>\n    <tr>\n      <th>1</th>\n      <td>21</td>\n      <td>23.177279</td>\n    </tr>\n    <tr>\n      <th>2</th>\n      <td>22</td>\n      <td>25.609262</td>\n    </tr>\n    <tr>\n      <th>3</th>\n      <td>20</td>\n      <td>17.857388</td>\n    </tr>\n    <tr>\n      <th>4</th>\n      <td>36</td>\n      <td>41.849864</td>\n    </tr>\n    <tr>\n      <th>...</th>\n      <td>...</td>\n      <td>...</td>\n    </tr>\n    <tr>\n      <th>295</th>\n      <td>71</td>\n      <td>68.545888</td>\n    </tr>\n    <tr>\n      <th>296</th>\n      <td>46</td>\n      <td>47.334876</td>\n    </tr>\n    <tr>\n      <th>297</th>\n      <td>55</td>\n      <td>54.090637</td>\n    </tr>\n    <tr>\n      <th>298</th>\n      <td>62</td>\n      <td>63.297171</td>\n    </tr>\n    <tr>\n      <th>299</th>\n      <td>47</td>\n      <td>52.459467</td>\n    </tr>\n  </tbody>\n</table>\n<p>300 rows × 2 columns</p>\n</div>"
     },
     "execution_count": 8,
     "metadata": {},
     "output_type": "execute_result"
    }
   ],
   "source": [
    "data"
   ]
  },
  {
   "cell_type": "code",
   "execution_count": 11,
   "id": "4c71bc9b",
   "metadata": {},
   "outputs": [
    {
     "data": {
      "text/plain": "array([ 77,  21,  22,  20,  36,  15,  62,  95,  20,   5,   4,  19,  96,\n        62,  36,  15,  65,  14,  87,  69,  89,  51,  89,  27,  97,  58,\n        79,  21,  93,  27,  99,  31,  33,  80,  28,  47,  53,  69,  28,\n        33,  91,  71,  50,  76,   4,  37,  70,  68,  40,  35,  94,  88,\n        52,  31,  59,   0,  39,  64,  69,  57,  13,  72,  76,  61,  82,\n        18,  41,  50,  55,  13,  46,  13,  79,  53,  15,  28,  81,  69,\n        52,  84,  68,  27,  56,  48,  40,  39,  82, 100,  59,  43,  67,\n        38,  63,  91,  60,  14,  21,  87,  73,  32,   2,  82,  19,  74,\n        42,  12,   1,  90,  89,   0,  41,  16,  94,  97,  66,  24,  17,\n        90,  13,   0,  64,  96,  98,  12,  41,  47,  78,  20,  89,  29,\n        64,  75,  12,  25,  28,  30,  65,  59,  64,  53,  71,  97,  73,\n         9,  12,  63,  99,  60,  35,   2,  60,  32,  94,  84,  63,  22,\n        81,  93,  33,   7,  42,  46,  54,  16,  49,  43,  95,  66,  21,\n        35,  80,  37,  54,  56,   1,  32,  58,  32,  46,  72,  17,  97,\n        93,  91,  37,   4,  54,  51,  27,  46,  92,  73,  77,  91,  61,\n        99,   4,  72,  19,  57,  78,  26,  74,  90,  66,  13,  40,  77,\n        67,  75,  23,  45,  59,  44,  23,  55,  55,  95,  12,   4,   7,\n       100,  48,  42,  96,  39, 100,  87,  14,  14,  37,   5,  88,  91,\n        65,  74,  56,  16,   5,  28,  92,  46,  54,  39,  44,  31,  68,\n        86,  90,  38,  21,  95,  56,  60,  65,  78,  89,   6,  67,  36,\n        16, 100,  45,  73,  57,  20,  76,  34,  55,  72,  55,   8,  56,\n        72,  58,   6,  96,  23,  58,  23,  19,  25,  64,  21,  59,  19,\n        16,  42,  43,  61,  92,  11,  41,   1,   8,  71,  46,  55,  62,\n        47], dtype=int64)"
     },
     "execution_count": 11,
     "metadata": {},
     "output_type": "execute_result"
    }
   ],
   "source": [
    "X = data['x'].values\n",
    "X"
   ]
  },
  {
   "cell_type": "code",
   "execution_count": 36,
   "id": "d883b0e1",
   "metadata": {},
   "outputs": [
    {
     "data": {
      "text/plain": "array([ 79.77515201,  23.17727887,  25.60926156,  17.85738813,\n        41.84986439,   9.80523488,  58.87465933,  97.61793701,\n        18.39512747,   8.74674765,   2.81141583,  17.09537241,\n        95.14907176,  61.38800663,  40.24701716,  14.82248589,\n        66.95806869,  16.63507984,  90.65513736,  77.22982636,\n        92.11906278,  46.91387709,  89.82634442,  21.71380347,\n        97.41206981,  57.01631363,  78.31056542,  19.1315097 ,\n        93.03483388,  26.59112396,  97.55155344,  31.43524822,\n        35.12724777,  78.61042432,  33.07112825,  51.69967172,\n        53.62235225,  69.46306072,  27.42497237,  36.34644189,\n        95.06140858,  68.16724757,  50.96155532,  78.04237454,\n         5.60766487,  36.11334779,  67.2352155 ,  65.01324035,\n        38.14753871,  34.31141446,  95.28503937,  87.84749912,\n        54.08170635,  31.93063515,  59.61247085,  -1.04011421,\n        47.49374765,  62.60089773,  70.9146434 ,  56.14834113,\n        14.05572877,  68.11367147,  75.59701346,  59.225745  ,\n        85.45504157,  17.76197116,  38.68888682,  50.96343637,\n        51.83503872,  17.0761107 ,  46.56141773,  10.34754461,\n        77.91032969,  50.17008622,  13.25690647,  31.32274932,\n        73.9308764 ,  74.45114379,  52.01932286,  83.68820499,\n        70.3698748 ,  23.44479161,  49.83051801,  49.88226593,\n        41.04525583,  33.37834391,  81.29750133, 105.5918375 ,\n        56.82457013,  48.67252645,  67.02150613,  38.43076389,\n        58.61466887,  89.12377509,  60.9105427 ,  13.83959878,\n        16.89085185,  84.06676818,  70.34969772,  33.38474138,\n        -1.63296825,  88.54475895,  17.44047622,  75.69298554,\n        41.97607107,  12.59244741,   0.27530726,  98.13258005,\n        87.45721555,  -2.34473854,  39.3294153 ,  16.68715211,\n        96.58888601,  97.70342201,  67.01715955,  25.63476257,\n        13.41310757,  95.15647284,   9.74416426,  -3.46788379,\n        62.82816355,  97.27405461,  95.58017185,   7.46850184,\n        45.44599591,  46.69013968,  74.4993599 ,  21.63500655,\n        91.59548851,  26.49487961,  67.38654703,  74.25362837,\n        12.07991648,  21.32273728,  29.31770045,  26.48713683,\n        68.94699774,  59.10598995,  64.37521087,  60.20758349,\n        70.34329706,  97.1082562 ,  75.7584178 ,  10.80462727,\n        12.11219941,  63.28312382,  98.03017721,  63.19354354,\n        34.8534823 ,  -2.81991397,  59.8313966 ,  29.38505024,\n        97.00148372,  85.18657275,  61.74063192,  18.84798163,\n        78.79008525,  95.12400481,  30.48881287,  10.41468095,\n        38.98317436,  46.11021062,  52.45103628,  21.16523945,\n        52.28620611,  44.18863945,  97.13832018,  67.22008001,\n        18.98322306,  24.3884599 ,  79.44769523,  40.03504862,\n        53.32005764,  54.55446979,  -2.7611826 ,  37.80182795,\n        57.48741435,  36.06292994,  49.83538167,  74.68953276,\n        14.86159401, 101.0697879 ,  99.43577876,  91.69240746,\n        34.12473248,   6.07939007,  59.07247174,  56.43046022,\n        30.49412933,  48.35172635,  89.73153611,  72.86282528,\n        80.97144285,  91.36566374,  60.07137496,  99.87382707,\n         8.65571417,  69.39858505,  19.38780134,  53.11628433,\n        78.39683006,  25.75612514,  75.07484683,  92.88772282,\n        69.45498498,  13.12109842,  48.09843134,  79.3142548 ,\n        68.48820749,  73.2300846 ,  24.68362712,  41.90368917,\n        62.22635684,  45.96396877,  23.52647153,  51.80035866,\n        51.10774273,  95.79747345,   9.24113898,   7.64652976,\n         9.28169975, 103.5266162 ,  47.41006725,  42.03835773,\n        96.11982476,  38.05766408, 105.4503788 ,  88.80306911,\n        15.49301141,  12.42624606,  40.00709598,   5.6340309 ,\n        87.36938931,  89.73951993,  66.61499643,  72.9138853 ,\n        57.19103506,  11.21710477,   0.67607675,  28.15668543,\n        95.3958003 ,  52.05490703,  59.70864577,  36.79224762,\n        37.08457698,  24.18437976,  67.28725332,  82.870594  ,\n        89.899991  ,  36.94173178,  19.87562242,  90.71481654,\n        61.09367762,  60.11134958,  64.83296316,  81.40381769,\n        92.40217686,   2.57662538,  63.80768172,  38.67780759,\n        16.82839701,  99.78687252,  44.68913433,  71.00377824,\n        51.57326718,  19.87846479,  79.50341495,  34.58876491,\n        55.7383467 ,  68.19721905,  55.81628509,   9.3914168 ,\n        56.01448111,  77.9969477 ,  55.37049953,  11.89457829,\n        94.79081712,  25.69041546,  53.52042319,  18.31396758,\n        21.42637785,  30.41303282,  67.68142149,  17.0854783 ,\n        60.91792707,  14.99514319,  16.74923937,  41.46923883,\n        42.84526108,  59.12912974,  91.30863673,   8.67333636,\n        39.31485292,   5.3136862 ,   5.40522052,  68.5458879 ,\n        47.33487629,  54.09063686,  63.29717058,  52.45946688])"
     },
     "execution_count": 36,
     "metadata": {},
     "output_type": "execute_result"
    }
   ],
   "source": [
    "Y = data['y'].values\n",
    "Y"
   ]
  },
  {
   "cell_type": "code",
   "execution_count": 2,
   "id": "808d2553",
   "metadata": {},
   "outputs": [],
   "source": [
    "from sklearn.model_selection import train_test_split"
   ]
  },
  {
   "cell_type": "code",
   "execution_count": 13,
   "id": "60521fb0",
   "metadata": {},
   "outputs": [],
   "source": [
    "X_train, X_test, y_train, y_test = train_test_split(X, Y, test_size=0.33, random_state=42)"
   ]
  },
  {
   "cell_type": "code",
   "execution_count": 1,
   "id": "9a2c4c6a",
   "metadata": {},
   "outputs": [
    {
     "name": "stdout",
     "output_type": "stream",
     "text": [
      "Collecting sklearn\n",
      "  Using cached sklearn-0.0.post1.tar.gz (3.6 kB)\n",
      "  Preparing metadata (setup.py): started\n",
      "  Preparing metadata (setup.py): finished with status 'done'\n",
      "Building wheels for collected packages: sklearn\n",
      "  Building wheel for sklearn (setup.py): started\n",
      "  Building wheel for sklearn (setup.py): finished with status 'done'\n",
      "  Created wheel for sklearn: filename=sklearn-0.0.post1-py3-none-any.whl size=2936 sha256=6e57d5965dd9d7ce56d4bf4f0c9d2e1fe3ee921823816ff855d20594a2a418dc\n",
      "  Stored in directory: c:\\users\\fg\\appdata\\local\\pip\\cache\\wheels\\f8\\e0\\3d\\9d0c2020c44a519b9f02ab4fa6d2a4a996c98d79ab2f569fa1\n",
      "Successfully built sklearn\n",
      "Installing collected packages: sklearn\n",
      "Successfully installed sklearn-0.0.post1\n",
      "Note: you may need to restart the kernel to use updated packages.\n"
     ]
    }
   ],
   "source": [
    "pip install sklearn"
   ]
  },
  {
   "cell_type": "code",
   "execution_count": null,
   "id": "dbc60a2e",
   "metadata": {},
   "outputs": [],
   "source": []
  },
  {
   "cell_type": "code",
   "execution_count": null,
   "id": "be53caa7",
   "metadata": {},
   "outputs": [],
   "source": []
  },
  {
   "cell_type": "code",
   "execution_count": 14,
   "id": "1466f04f",
   "metadata": {},
   "outputs": [
    {
     "data": {
      "text/plain": "array([ 50,  14,  13,  31,  91,  20,  39,  71,  87,  97,  21,  12,  45,\n        82,  90,  31,  17,  99,  41,  72,  40,   0,  54,  37,  66,  53,\n        60,  28,  47,  99,  21,  59,  94,  21,  90,  23,   8,  22,  58,\n        46,  22,  24,   9,  32,  64,  23,  16,  20,  15,  27,  48,  72,\n        90,  42,  33,  19,  68,  48,  18,  19,  39,  44,   7,  96,  47,\n        93,  73,  59,  65,  80,  88,  14,  67,  86,  71,  43,  44,  65,\n        79,   1,  97,  78,  77,  55,  56,   2,  36,  78,  37,  73,  53,\n        72,  60,  56,  74,  54,  19,  46,  34,  21,   4,  36,  98,  33,\n        66,  54,  75,  19,  64,  76,  30,  89,  92,  20,  46,  57,  82,\n         4,  23,  81,  91,  12,   6,  55,  84,  27, 100,  41,  27,  77,\n        59,  33,  92,  11,  67,  57,  36,  68,  60,  73,  87,  72,  26,\n        46,  76,  95,  63,  92,   7,  95,  20,  12,  31,  25,  21,  75,\n        74,  35,  68,  13,  28,  38,  52,  46,  62,  59,  95,   8,  28,\n        42,  39,  59,  94,   1,  46,  62,  51,  35,  69,  40,  74,  56,\n        51,  42,  96,  73,   6,   2,  64,  32,  32, 100,  23,  96,  47,\n        89,  27,  13,   1,  55,  19], dtype=int64)"
     },
     "execution_count": 14,
     "metadata": {},
     "output_type": "execute_result"
    }
   ],
   "source": [
    "X_train"
   ]
  },
  {
   "cell_type": "code",
   "execution_count": 16,
   "id": "2c786f53",
   "metadata": {},
   "outputs": [],
   "source": [
    "from sklearn.linear_model import LinearRegression"
   ]
  },
  {
   "cell_type": "code",
   "execution_count": 24,
   "id": "b8bf49c4",
   "metadata": {},
   "outputs": [],
   "source": [
    "model = LinearRegression()"
   ]
  },
  {
   "cell_type": "code",
   "execution_count": 27,
   "id": "5c000607",
   "metadata": {},
   "outputs": [
    {
     "data": {
      "text/plain": "LinearRegression()"
     },
     "execution_count": 27,
     "metadata": {},
     "output_type": "execute_result"
    }
   ],
   "source": [
    "model.fit([X_train], [y_train])"
   ]
  },
  {
   "cell_type": "code",
   "execution_count": 32,
   "id": "939387e4",
   "metadata": {},
   "outputs": [
    {
     "ename": "ValueError",
     "evalue": "Expected 2D array, got 1D array instead:\narray=[ 90  76  94   5  91 100   4   0  15  32  16  64  12  37  93 100  61  45\n  35  43  52  97  38  21  42  50  25  71  93   5  14  49  80  97  55   0\n  95  67  70  53  91  81  16  13  69  61  65  14  16   5  17  12  28  28\n  55  58  87  63  77  58  88  57  62   4  56  99  89  89  39  54  89  78\n  37  91  29  64  56  40  41  43  16  63  69  41  84  66  13  79  15   4\n  61  82  55  96  69  65  72  60  58].\nReshape your data either using array.reshape(-1, 1) if your data has a single feature or array.reshape(1, -1) if it contains a single sample.",
     "output_type": "error",
     "traceback": [
      "\u001B[1;31m---------------------------------------------------------------------------\u001B[0m",
      "\u001B[1;31mValueError\u001B[0m                                Traceback (most recent call last)",
      "\u001B[1;32m~\\AppData\\Local\\Temp\\ipykernel_6764\\751373513.py\u001B[0m in \u001B[0;36m<module>\u001B[1;34m\u001B[0m\n\u001B[1;32m----> 1\u001B[1;33m \u001B[0mY_pred\u001B[0m \u001B[1;33m=\u001B[0m \u001B[0mmodel\u001B[0m\u001B[1;33m.\u001B[0m\u001B[0mpredict\u001B[0m\u001B[1;33m(\u001B[0m\u001B[0mX_test\u001B[0m\u001B[1;33m)\u001B[0m\u001B[1;33m\u001B[0m\u001B[1;33m\u001B[0m\u001B[0m\n\u001B[0m",
      "\u001B[1;32m~\\anaconda3\\lib\\site-packages\\sklearn\\linear_model\\_base.py\u001B[0m in \u001B[0;36mpredict\u001B[1;34m(self, X)\u001B[0m\n\u001B[0;32m    360\u001B[0m             \u001B[0mReturns\u001B[0m \u001B[0mpredicted\u001B[0m \u001B[0mvalues\u001B[0m\u001B[1;33m.\u001B[0m\u001B[1;33m\u001B[0m\u001B[1;33m\u001B[0m\u001B[0m\n\u001B[0;32m    361\u001B[0m         \"\"\"\n\u001B[1;32m--> 362\u001B[1;33m         \u001B[1;32mreturn\u001B[0m \u001B[0mself\u001B[0m\u001B[1;33m.\u001B[0m\u001B[0m_decision_function\u001B[0m\u001B[1;33m(\u001B[0m\u001B[0mX\u001B[0m\u001B[1;33m)\u001B[0m\u001B[1;33m\u001B[0m\u001B[1;33m\u001B[0m\u001B[0m\n\u001B[0m\u001B[0;32m    363\u001B[0m \u001B[1;33m\u001B[0m\u001B[0m\n\u001B[0;32m    364\u001B[0m     \u001B[0m_preprocess_data\u001B[0m \u001B[1;33m=\u001B[0m \u001B[0mstaticmethod\u001B[0m\u001B[1;33m(\u001B[0m\u001B[0m_preprocess_data\u001B[0m\u001B[1;33m)\u001B[0m\u001B[1;33m\u001B[0m\u001B[1;33m\u001B[0m\u001B[0m\n",
      "\u001B[1;32m~\\anaconda3\\lib\\site-packages\\sklearn\\linear_model\\_base.py\u001B[0m in \u001B[0;36m_decision_function\u001B[1;34m(self, X)\u001B[0m\n\u001B[0;32m    343\u001B[0m         \u001B[0mcheck_is_fitted\u001B[0m\u001B[1;33m(\u001B[0m\u001B[0mself\u001B[0m\u001B[1;33m)\u001B[0m\u001B[1;33m\u001B[0m\u001B[1;33m\u001B[0m\u001B[0m\n\u001B[0;32m    344\u001B[0m \u001B[1;33m\u001B[0m\u001B[0m\n\u001B[1;32m--> 345\u001B[1;33m         \u001B[0mX\u001B[0m \u001B[1;33m=\u001B[0m \u001B[0mself\u001B[0m\u001B[1;33m.\u001B[0m\u001B[0m_validate_data\u001B[0m\u001B[1;33m(\u001B[0m\u001B[0mX\u001B[0m\u001B[1;33m,\u001B[0m \u001B[0maccept_sparse\u001B[0m\u001B[1;33m=\u001B[0m\u001B[1;33m[\u001B[0m\u001B[1;34m\"csr\"\u001B[0m\u001B[1;33m,\u001B[0m \u001B[1;34m\"csc\"\u001B[0m\u001B[1;33m,\u001B[0m \u001B[1;34m\"coo\"\u001B[0m\u001B[1;33m]\u001B[0m\u001B[1;33m,\u001B[0m \u001B[0mreset\u001B[0m\u001B[1;33m=\u001B[0m\u001B[1;32mFalse\u001B[0m\u001B[1;33m)\u001B[0m\u001B[1;33m\u001B[0m\u001B[1;33m\u001B[0m\u001B[0m\n\u001B[0m\u001B[0;32m    346\u001B[0m         \u001B[1;32mreturn\u001B[0m \u001B[0msafe_sparse_dot\u001B[0m\u001B[1;33m(\u001B[0m\u001B[0mX\u001B[0m\u001B[1;33m,\u001B[0m \u001B[0mself\u001B[0m\u001B[1;33m.\u001B[0m\u001B[0mcoef_\u001B[0m\u001B[1;33m.\u001B[0m\u001B[0mT\u001B[0m\u001B[1;33m,\u001B[0m \u001B[0mdense_output\u001B[0m\u001B[1;33m=\u001B[0m\u001B[1;32mTrue\u001B[0m\u001B[1;33m)\u001B[0m \u001B[1;33m+\u001B[0m \u001B[0mself\u001B[0m\u001B[1;33m.\u001B[0m\u001B[0mintercept_\u001B[0m\u001B[1;33m\u001B[0m\u001B[1;33m\u001B[0m\u001B[0m\n\u001B[0;32m    347\u001B[0m \u001B[1;33m\u001B[0m\u001B[0m\n",
      "\u001B[1;32m~\\anaconda3\\lib\\site-packages\\sklearn\\base.py\u001B[0m in \u001B[0;36m_validate_data\u001B[1;34m(self, X, y, reset, validate_separately, **check_params)\u001B[0m\n\u001B[0;32m    564\u001B[0m             \u001B[1;32mraise\u001B[0m \u001B[0mValueError\u001B[0m\u001B[1;33m(\u001B[0m\u001B[1;34m\"Validation should be done on X, y or both.\"\u001B[0m\u001B[1;33m)\u001B[0m\u001B[1;33m\u001B[0m\u001B[1;33m\u001B[0m\u001B[0m\n\u001B[0;32m    565\u001B[0m         \u001B[1;32melif\u001B[0m \u001B[1;32mnot\u001B[0m \u001B[0mno_val_X\u001B[0m \u001B[1;32mand\u001B[0m \u001B[0mno_val_y\u001B[0m\u001B[1;33m:\u001B[0m\u001B[1;33m\u001B[0m\u001B[1;33m\u001B[0m\u001B[0m\n\u001B[1;32m--> 566\u001B[1;33m             \u001B[0mX\u001B[0m \u001B[1;33m=\u001B[0m \u001B[0mcheck_array\u001B[0m\u001B[1;33m(\u001B[0m\u001B[0mX\u001B[0m\u001B[1;33m,\u001B[0m \u001B[1;33m**\u001B[0m\u001B[0mcheck_params\u001B[0m\u001B[1;33m)\u001B[0m\u001B[1;33m\u001B[0m\u001B[1;33m\u001B[0m\u001B[0m\n\u001B[0m\u001B[0;32m    567\u001B[0m             \u001B[0mout\u001B[0m \u001B[1;33m=\u001B[0m \u001B[0mX\u001B[0m\u001B[1;33m\u001B[0m\u001B[1;33m\u001B[0m\u001B[0m\n\u001B[0;32m    568\u001B[0m         \u001B[1;32melif\u001B[0m \u001B[0mno_val_X\u001B[0m \u001B[1;32mand\u001B[0m \u001B[1;32mnot\u001B[0m \u001B[0mno_val_y\u001B[0m\u001B[1;33m:\u001B[0m\u001B[1;33m\u001B[0m\u001B[1;33m\u001B[0m\u001B[0m\n",
      "\u001B[1;32m~\\anaconda3\\lib\\site-packages\\sklearn\\utils\\validation.py\u001B[0m in \u001B[0;36mcheck_array\u001B[1;34m(array, accept_sparse, accept_large_sparse, dtype, order, copy, force_all_finite, ensure_2d, allow_nd, ensure_min_samples, ensure_min_features, estimator)\u001B[0m\n\u001B[0;32m    767\u001B[0m             \u001B[1;31m# If input is 1D raise error\u001B[0m\u001B[1;33m\u001B[0m\u001B[1;33m\u001B[0m\u001B[0m\n\u001B[0;32m    768\u001B[0m             \u001B[1;32mif\u001B[0m \u001B[0marray\u001B[0m\u001B[1;33m.\u001B[0m\u001B[0mndim\u001B[0m \u001B[1;33m==\u001B[0m \u001B[1;36m1\u001B[0m\u001B[1;33m:\u001B[0m\u001B[1;33m\u001B[0m\u001B[1;33m\u001B[0m\u001B[0m\n\u001B[1;32m--> 769\u001B[1;33m                 raise ValueError(\n\u001B[0m\u001B[0;32m    770\u001B[0m                     \u001B[1;34m\"Expected 2D array, got 1D array instead:\\narray={}.\\n\"\u001B[0m\u001B[1;33m\u001B[0m\u001B[1;33m\u001B[0m\u001B[0m\n\u001B[0;32m    771\u001B[0m                     \u001B[1;34m\"Reshape your data either using array.reshape(-1, 1) if \"\u001B[0m\u001B[1;33m\u001B[0m\u001B[1;33m\u001B[0m\u001B[0m\n",
      "\u001B[1;31mValueError\u001B[0m: Expected 2D array, got 1D array instead:\narray=[ 90  76  94   5  91 100   4   0  15  32  16  64  12  37  93 100  61  45\n  35  43  52  97  38  21  42  50  25  71  93   5  14  49  80  97  55   0\n  95  67  70  53  91  81  16  13  69  61  65  14  16   5  17  12  28  28\n  55  58  87  63  77  58  88  57  62   4  56  99  89  89  39  54  89  78\n  37  91  29  64  56  40  41  43  16  63  69  41  84  66  13  79  15   4\n  61  82  55  96  69  65  72  60  58].\nReshape your data either using array.reshape(-1, 1) if your data has a single feature or array.reshape(1, -1) if it contains a single sample."
     ]
    }
   ],
   "source": [
    "Y_pred = model.predict(X_test)"
   ]
  },
  {
   "cell_type": "code",
   "execution_count": 33,
   "id": "ea889ebb",
   "metadata": {},
   "outputs": [
    {
     "ename": "NameError",
     "evalue": "name 'Y_pred' is not defined",
     "output_type": "error",
     "traceback": [
      "\u001B[1;31m---------------------------------------------------------------------------\u001B[0m",
      "\u001B[1;31mNameError\u001B[0m                                 Traceback (most recent call last)",
      "\u001B[1;32m~\\AppData\\Local\\Temp\\ipykernel_6764\\764657521.py\u001B[0m in \u001B[0;36m<module>\u001B[1;34m\u001B[0m\n\u001B[1;32m----> 1\u001B[1;33m \u001B[0mY_pred\u001B[0m\u001B[1;33m\u001B[0m\u001B[1;33m\u001B[0m\u001B[0m\n\u001B[0m",
      "\u001B[1;31mNameError\u001B[0m: name 'Y_pred' is not defined"
     ]
    }
   ],
   "source": [
    "Y_pred"
   ]
  },
  {
   "cell_type": "code",
   "execution_count": null,
   "id": "ab0052ae",
   "metadata": {},
   "outputs": [],
   "source": []
  }
 ],
 "metadata": {
  "kernelspec": {
   "display_name": "Python 3 (ipykernel)",
   "language": "python",
   "name": "python3"
  },
  "language_info": {
   "codemirror_mode": {
    "name": "ipython",
    "version": 3
   },
   "file_extension": ".py",
   "mimetype": "text/x-python",
   "name": "python",
   "nbconvert_exporter": "python",
   "pygments_lexer": "ipython3",
   "version": "3.7.1"
  }
 },
 "nbformat": 4,
 "nbformat_minor": 5
}
